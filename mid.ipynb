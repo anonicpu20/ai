{
  "nbformat": 4,
  "nbformat_minor": 0,
  "metadata": {
    "colab": {
      "provenance": []
    },
    "kernelspec": {
      "name": "python3",
      "display_name": "Python 3"
    },
    "language_info": {
      "name": "python"
    }
  },
  "cells": [
    {
      "cell_type": "code",
      "execution_count": 9,
      "metadata": {
        "colab": {
          "base_uri": "https://localhost:8080/"
        },
        "id": "xAk7jHOkRwBW",
        "outputId": "9c74ad45-a961-40a6-ea24-d02dcae40200"
      },
      "outputs": [
        {
          "output_type": "stream",
          "name": "stdout",
          "text": [
            "Path to the key: [(0, 0), (1, 0), (2, 0), (2, 1), (2, 2), (2, 3), (2, 4), (1, 4), (0, 4)]\n"
          ]
        }
      ],
      "source": [
        "from collections import deque\n",
        "\n",
        "class Environment:\n",
        "    def __init__(self, grid):\n",
        "        self.grid = grid\n",
        "        self.rows = len(grid)\n",
        "        self.cols = len(grid[0])\n",
        "        self.start = self.find_position('S')\n",
        "        self.key = self.find_position('K')\n",
        "\n",
        "    def find_position(self, symbol):\n",
        "        for i in range(self.rows):\n",
        "            for j in range(self.cols):\n",
        "                if self.grid[i][j] == symbol:\n",
        "                    return (i, j)\n",
        "        return None\n",
        "\n",
        "    def is_valid(self, x, y):\n",
        "        if 0 <= x < self.rows and 0 <= y < self.cols and self.grid[x][y] != '#':\n",
        "            return True\n",
        "        return False\n",
        "\n",
        "class GoalBasedAgent:\n",
        "    def __init__(self, environment):\n",
        "        self.environment = environment\n",
        "\n",
        "    def bfs(self):\n",
        "        directions = [(-1, 0), (1, 0), (0, -1), (0, 1)]  # Up, Down, Left, Right\n",
        "        queue = deque([(self.environment.start, [self.environment.start])])\n",
        "        visited = set()\n",
        "\n",
        "        while queue:\n",
        "            (x, y), path = queue.popleft()\n",
        "\n",
        "            if (x, y) == self.environment.key:\n",
        "                return path\n",
        "\n",
        "            if (x, y) in visited:\n",
        "                continue\n",
        "\n",
        "            visited.add((x, y))\n",
        "\n",
        "            for dx, dy in directions:\n",
        "                nx, ny = x + dx, y + dy\n",
        "\n",
        "                if self.environment.is_valid(nx, ny) and (nx, ny) not in visited:\n",
        "                    queue.append(((nx, ny), path + [(nx, ny)]))\n",
        "\n",
        "        return None\n",
        "\n",
        "# Example Grid\n",
        "grid = [\n",
        "    ['S', '.', '#', '.', 'K'],\n",
        "    ['.', '#', '.', '#', '.'],\n",
        "    ['.', '.', '.', '.', '.'],\n",
        "    ['#', '.', '#', '.', '#'],\n",
        "    ['.', '.', '.', '.', '.']\n",
        "]\n",
        "\n",
        "env = Environment(grid)\n",
        "agent = GoalBasedAgent(env)\n",
        "path = agent.bfs()\n",
        "\n",
        "print(\"Path to the key:\", path)\n"
      ]
    },
    {
      "cell_type": "code",
      "source": [
        "import heapq\n",
        "\n",
        "class GBFS_Agent:\n",
        "    def __init__(self, environment):\n",
        "        self.environment = environment\n",
        "\n",
        "    def heuristic(self, pos):\n",
        "        return abs(pos[0] - self.environment.key[0]) + abs(pos[1] - self.environment.key[1])\n",
        "\n",
        "    def generate_neighbors(self, pos):\n",
        "        directions = [(-1, 0), (1, 0), (0, -1), (0, 1)]\n",
        "        neighbors = []\n",
        "\n",
        "        for dx, dy in directions:\n",
        "            nx, ny = pos[0] + dx, pos[1] + dy\n",
        "            if self.environment.is_valid(nx, ny):\n",
        "                neighbors.append((nx, ny))\n",
        "\n",
        "        return neighbors\n",
        "\n",
        "    def gbfs(self):\n",
        "        priority_queue = []\n",
        "        heapq.heappush(priority_queue, (0, [self.environment.start]))\n",
        "        visited = set()\n",
        "\n",
        "        while priority_queue:\n",
        "            _, path = heapq.heappop(priority_queue)\n",
        "            current = path[-1]\n",
        "\n",
        "            if current in visited:\n",
        "                continue\n",
        "\n",
        "            if current == self.environment.key:\n",
        "                return path\n",
        "\n",
        "            visited.add(current)\n",
        "\n",
        "            for neighbor in self.generate_neighbors(current):\n",
        "                if neighbor not in visited:\n",
        "                    new_path = path + [neighbor]\n",
        "                    heapq.heappush(priority_queue, (self.heuristic(neighbor), new_path))\n",
        "\n",
        "        return None\n",
        "\n",
        "# Execute GBFS\n",
        "gbfs_agent = GBFS_Agent(env)\n",
        "path = gbfs_agent.gbfs()\n",
        "\n",
        "print(\"GBFS Path to the key:\", path)\n"
      ],
      "metadata": {
        "colab": {
          "base_uri": "https://localhost:8080/"
        },
        "id": "3Htaba9wST81",
        "outputId": "d03d4aae-243c-4384-9f1e-fb63a5a202e7"
      },
      "execution_count": 10,
      "outputs": [
        {
          "output_type": "stream",
          "name": "stdout",
          "text": [
            "GBFS Path to the key: [(0, 0), (1, 0), (2, 0), (2, 1), (2, 2), (2, 3), (2, 4), (1, 4), (0, 4)]\n"
          ]
        }
      ]
    },
    {
      "cell_type": "code",
      "source": [
        "import random\n",
        "\n",
        "def initialize_population(size, book_count):\n",
        "    return [random.sample(range(book_count), book_count) for _ in range(size)]\n",
        "\n",
        "def fitness(solution):\n",
        "    conflicts = sum([abs(solution[i] - solution[i + 1]) == 1 for i in range(len(solution) - 1)])\n",
        "    return 1 / (1 + conflicts)\n",
        "\n",
        "def roulette_selection(population):\n",
        "    total_fitness = sum(fitness(ind) for ind in population)\n",
        "    probabilities = [fitness(ind) / total_fitness for ind in population]\n",
        "    return population[random.choices(range(len(population)), probabilities)[0]]\n",
        "\n",
        "def crossover(parent1, parent2):\n",
        "    point1, point2 = sorted(random.sample(range(len(parent1)), 2))\n",
        "    child = parent1[:point1] + parent2[point1:point2] + parent1[point2:]\n",
        "    return child\n",
        "\n",
        "def mutate(individual):\n",
        "    index = random.randint(0, len(individual) - 1)\n",
        "    individual[index] = random.choice(range(len(individual)))\n",
        "\n",
        "# GA Execution\n",
        "population_size = 5\n",
        "books = 5\n",
        "generations = 10\n",
        "\n",
        "population = initialize_population(population_size, books)\n",
        "\n",
        "for _ in range(generations):\n",
        "    new_population = []\n",
        "    for _ in range(population_size):\n",
        "        parent1 = roulette_selection(population)\n",
        "        parent2 = roulette_selection(population)\n",
        "        child = crossover(parent1, parent2)\n",
        "        mutate(child)\n",
        "        new_population.append(child)\n",
        "\n",
        "    population = new_population\n",
        "\n",
        "best_solution = max(population, key=fitness)\n",
        "print(\"Best Solution:\", best_solution)\n"
      ],
      "metadata": {
        "colab": {
          "base_uri": "https://localhost:8080/"
        },
        "id": "u1j724HOSpJ0",
        "outputId": "17aaf35e-7f2c-41e1-906c-2bee4c89626d"
      },
      "execution_count": 11,
      "outputs": [
        {
          "output_type": "stream",
          "name": "stdout",
          "text": [
            "Best Solution: [0, 0, 2, 2, 0]\n"
          ]
        }
      ]
    }
  ]
}